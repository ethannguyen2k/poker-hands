{
 "cells": [
  {
   "cell_type": "code",
   "execution_count": 1,
   "metadata": {},
   "outputs": [],
   "source": [
    "def gini_impurity(labels):\n",
    "    total = len(labels)\n",
    "    if total == 0:\n",
    "        return 0\n",
    "    counts = {label: labels.count(label) for label in set(labels)}\n",
    "    impurity = 1 - sum((count / total) ** 2 for count in counts.values())\n",
    "    return impurity"
   ]
  },
  {
   "cell_type": "code",
   "execution_count": 2,
   "metadata": {},
   "outputs": [
    {
     "name": "stdout",
     "output_type": "stream",
     "text": [
      "0.48\n"
     ]
    }
   ],
   "source": [
    "# Test the function with some example labels\n",
    "labels = [1, 1, 0, 1, 0]\n",
    "print(gini_impurity(labels))  # 0.48"
   ]
  },
  {
   "cell_type": "code",
   "execution_count": 8,
   "metadata": {},
   "outputs": [
    {
     "name": "stdout",
     "output_type": "stream",
     "text": [
      "[[10, 20], [30, 40]]\n",
      "[[50, 60], [70, 80]]\n"
     ]
    }
   ],
   "source": [
    "def split_dataset(data, feature_index, threshold):\n",
    "    left = [row for row in data if row[feature_index] <= threshold]\n",
    "    right = [row for row in data if row[feature_index] > threshold]\n",
    "    return left, right\n",
    "\n",
    "# Test the function with some example data\n",
    "data = [[10, 20], [30, 40], [50, 60], [70, 80]]\n",
    "left, right = split_dataset(data, 0, 30)\n",
    "print(left)\n",
    "print(right)"
   ]
  },
  {
   "cell_type": "code",
   "execution_count": null,
   "metadata": {},
   "outputs": [],
   "source": []
  }
 ],
 "metadata": {
  "kernelspec": {
   "display_name": "test",
   "language": "python",
   "name": "python3"
  },
  "language_info": {
   "codemirror_mode": {
    "name": "ipython",
    "version": 3
   },
   "file_extension": ".py",
   "mimetype": "text/x-python",
   "name": "python",
   "nbconvert_exporter": "python",
   "pygments_lexer": "ipython3",
   "version": "3.12.7"
  }
 },
 "nbformat": 4,
 "nbformat_minor": 2
}
