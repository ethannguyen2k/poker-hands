{
 "cells": [
  {
   "cell_type": "code",
   "execution_count": 4,
   "metadata": {},
   "outputs": [
    {
     "name": "stdout",
     "output_type": "stream",
     "text": [
      "1\n",
      "2\n",
      "3\n"
     ]
    }
   ],
   "source": [
    "for i in range(1,4):\n",
    "    print(i)"
   ]
  },
  {
   "cell_type": "code",
   "execution_count": 6,
   "metadata": {},
   "outputs": [
    {
     "name": "stdout",
     "output_type": "stream",
     "text": [
      "[0, 0, 1, 1, 2, 3, 3]\n"
     ]
    }
   ],
   "source": [
    "def keep_at_most_duplicates_in_place(lst, max_duplicates=2):\n",
    "    count = {}\n",
    "    i = 0  # Pointer to current position in the list\n",
    "\n",
    "    while i < len(lst):\n",
    "        if count.get(lst[i], 0) < max_duplicates:\n",
    "            count[lst[i]] = count.get(lst[i], 0) + 1\n",
    "            i += 1\n",
    "        else:\n",
    "            lst.pop(i)  # Remove the current element if it exceeds the limit\n",
    "\n",
    "# Example usage\n",
    "lst = [0, 0, 1, 1, 1, 1, 2, 3, 3]\n",
    "keep_at_most_duplicates_in_place(lst, max_duplicates=2)\n",
    "print(lst)\n"
   ]
  },
  {
   "cell_type": "code",
   "execution_count": 5,
   "metadata": {},
   "outputs": [
    {
     "name": "stdout",
     "output_type": "stream",
     "text": [
      "3\n"
     ]
    }
   ],
   "source": [
    "lst = [3, 2, 3]\n",
    "count_dict = {num: lst.count(num) for num in set(lst)}\n",
    "\n",
    "for i in count_dict:\n",
    "    if count_dict[i] > len(lst) // 3:\n",
    "        print(i)"
   ]
  },
  {
   "cell_type": "code",
   "execution_count": 21,
   "metadata": {},
   "outputs": [
    {
     "name": "stdout",
     "output_type": "stream",
     "text": [
      "[8, 9, 10, 1, 2, 3, 4, 5, 6, 7]\n"
     ]
    }
   ],
   "source": [
    "lst = [1,2,3,4,5,6,7,8,9,10]\n",
    "k = 3\n",
    "for i in range(k):\n",
    "    lst.insert(0, lst[len(lst)-1])\n",
    "    lst.pop(len(lst)-1)\n",
    "\n",
    "print(lst)"
   ]
  },
  {
   "cell_type": "code",
   "execution_count": 34,
   "metadata": {},
   "outputs": [
    {
     "data": {
      "text/plain": [
       "[1, 4, 6, 1, 4, 6, 3, 6, 7]"
      ]
     },
     "execution_count": 34,
     "metadata": {},
     "output_type": "execute_result"
    }
   ],
   "source": [
    "lst = [1,4,6,1,4,6,3,6,7,4]\n",
    "lst[:-1]"
   ]
  },
  {
   "cell_type": "code",
   "execution_count": 39,
   "metadata": {},
   "outputs": [
    {
     "data": {
      "text/plain": [
       "[2, 4, 1]"
      ]
     },
     "execution_count": 39,
     "metadata": {},
     "output_type": "execute_result"
    }
   ],
   "source": [
    "lst = [2,4,1]\n",
    "lst[-3:]"
   ]
  },
  {
   "cell_type": "code",
   "execution_count": 49,
   "metadata": {},
   "outputs": [
    {
     "name": "stdout",
     "output_type": "stream",
     "text": [
      "5\n"
     ]
    }
   ],
   "source": [
    "prices = [7,1,5,3,6,4]\n",
    "high = 0\n",
    "buy = 0\n",
    "for i in range(len(prices) - 1):\n",
    "    buy = prices[i]\n",
    "    for j in range(i+1, len(prices)):\n",
    "        if prices[j] - buy > high:\n",
    "            high = prices[j] - buy\n",
    "\n",
    "print(high)"
   ]
  },
  {
   "cell_type": "code",
   "execution_count": 14,
   "metadata": {},
   "outputs": [
    {
     "name": "stdout",
     "output_type": "stream",
     "text": [
      "google\n",
      "leetcode\n"
     ]
    }
   ],
   "source": [
    "words1 = [\"amazon\",\"apple\",\"facebook\",\"google\",\"leetcode\"]\n",
    "words2 = [\"lo\",\"eo\"]\n",
    "sum = 0\n",
    "for word in words2:\n",
    "    sum += len(word)\n",
    "\n",
    "for i in words1:\n",
    "    cnt = 0\n",
    "    for j in words2:\n",
    "        for k in j:\n",
    "            if k in i:\n",
    "                cnt += 1\n",
    "            if cnt == sum:\n",
    "                print(i)"
   ]
  },
  {
   "cell_type": "code",
   "execution_count": 28,
   "metadata": {},
   "outputs": [
    {
     "data": {
      "text/plain": [
       "2"
      ]
     },
     "execution_count": 28,
     "metadata": {},
     "output_type": "execute_result"
    }
   ],
   "source": [
    "def freq_count(word):\n",
    "    freq = {}\n",
    "    for char in word:\n",
    "        if char in freq:\n",
    "            freq[char] += 1\n",
    "        else:\n",
    "            freq[char] = 1\n",
    "    return freq\n",
    "\n",
    "reg = freq_count(\"apple\")\n",
    "reg.get('p', 0)"
   ]
  },
  {
   "cell_type": "code",
   "execution_count": 33,
   "metadata": {},
   "outputs": [
    {
     "data": {
      "text/plain": [
       "True"
      ]
     },
     "execution_count": 33,
     "metadata": {},
     "output_type": "execute_result"
    }
   ],
   "source": [
    "def canjump(nums):\n",
    "    last = len(nums) - 1\n",
    "    value = 0 + nums[0]\n",
    "    for i in range(1, value+1):\n",
    "        if i + nums[i] >= last:\n",
    "            return True\n",
    "        else:\n",
    "            value = max(value, i + nums[i])\n",
    "    return False\n",
    "\n",
    "nums = [2,5,0,0]\n",
    "canjump(nums)"
   ]
  },
  {
   "cell_type": "code",
   "execution_count": null,
   "metadata": {},
   "outputs": [],
   "source": [
    "class Solution:\n",
    "    def canJump(self, nums: List[int]) -> bool:\n",
    "        furthest = 0\n",
    "        n = len(nums)\n",
    "        for i in range(n):\n",
    "            if i > furthest:\n",
    "                return False\n",
    "            furthest = max(furthest, i + nums[i])\n",
    "            if furthest >= n - 1:\n",
    "                return True\n",
    "        return False"
   ]
  },
  {
   "cell_type": "code",
   "execution_count": 41,
   "metadata": {},
   "outputs": [
    {
     "name": "stdout",
     "output_type": "stream",
     "text": [
      "0\n"
     ]
    }
   ],
   "source": [
    "citations = [100]\n",
    "high = 0\n",
    "n = len(citations)\n",
    "citations.sort()\n",
    "for i in range(n):\n",
    "    if n >= citations[i] and len([x for x in citations if x >= citations[i]]) >= citations[i]:\n",
    "        high = citations[i]\n",
    "\n",
    "print(high)"
   ]
  },
  {
   "cell_type": "code",
   "execution_count": 2,
   "metadata": {},
   "outputs": [
    {
     "data": {
      "text/plain": [
       "8"
      ]
     },
     "execution_count": 2,
     "metadata": {},
     "output_type": "execute_result"
    }
   ],
   "source": [
    "string = \"abcabcbb\"\n",
    "def canConstruct(s, k):\n",
    "    if len(s) < k:\n",
    "        return False\n",
    "    freq = {}\n",
    "    for char in s:\n",
    "        if char in freq:\n",
    "            freq[char] += 1\n",
    "        else:\n",
    "            freq[char] = 1\n",
    "    if len([x for x in freq.values() if x % 2 != 0]) > k:\n",
    "        return False\n",
    "    return True"
   ]
  },
  {
   "cell_type": "code",
   "execution_count": null,
   "metadata": {},
   "outputs": [],
   "source": [
    "nums = [1,2,3,4,5]\n",
    "# product of all elements except self without using np\n",
    "output = []\n",
    "for i in range(len(nums)):\n",
    "    product = 1\n",
    "    for j in range(len(nums)):\n",
    "        if i != j:\n",
    "            product *= nums[j]\n",
    "    output.append(product)"
   ]
  },
  {
   "cell_type": "code",
   "execution_count": 8,
   "metadata": {},
   "outputs": [
    {
     "data": {
      "text/plain": [
       "False"
      ]
     },
     "execution_count": 8,
     "metadata": {},
     "output_type": "execute_result"
    }
   ],
   "source": [
    "s = \"())(()(()(())()())(())((())(()())((())))))(((((((())(()))))(\"\n",
    "locked = \"100011110110011011010111100111011101111110000101001101001111\"\n",
    "def canBeValid(s, locked):\n",
    "    n = len(s)\n",
    "    if n % 2 != 0:\n",
    "        return False\n",
    "\n",
    "    # Left-to-right balance check\n",
    "    balance = 0\n",
    "    for i in range(n):\n",
    "        if locked[i] == \"1\":\n",
    "            if s[i] == \"(\":\n",
    "                balance += 1\n",
    "            else:  # s[i] == \")\"\n",
    "                balance -= 1\n",
    "        else:  # Unlocked position can be treated as \"(\"\n",
    "            balance += 1\n",
    "        \n",
    "        # If balance goes negative, too many \")\" have appeared\n",
    "        if balance < 0:\n",
    "            return False\n",
    "\n",
    "    # Right-to-left balance check\n",
    "    balance = 0\n",
    "    for i in range(n - 1, -1, -1):\n",
    "        if locked[i] == \"1\":\n",
    "            if s[i] == \")\":\n",
    "                balance += 1\n",
    "            else:  # s[i] == \"(\"\n",
    "                balance -= 1\n",
    "        else:  # Unlocked position can be treated as \")\"\n",
    "            balance += 1\n",
    "\n",
    "        # If balance goes negative, too many \"(\" have appeared\n",
    "        if balance < 0:\n",
    "            return False\n",
    "\n",
    "    return True\n",
    "\n",
    "\n",
    "canBeValid(s, locked)"
   ]
  }
 ],
 "metadata": {
  "kernelspec": {
   "display_name": "test",
   "language": "python",
   "name": "python3"
  },
  "language_info": {
   "codemirror_mode": {
    "name": "ipython",
    "version": 3
   },
   "file_extension": ".py",
   "mimetype": "text/x-python",
   "name": "python",
   "nbconvert_exporter": "python",
   "pygments_lexer": "ipython3",
   "version": "3.12.7"
  }
 },
 "nbformat": 4,
 "nbformat_minor": 2
}
